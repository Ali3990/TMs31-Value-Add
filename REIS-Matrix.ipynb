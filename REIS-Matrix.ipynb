{
 "cells": [
  {
   "cell_type": "code",
   "execution_count": 4,
   "metadata": {},
   "outputs": [],
   "source": [
    "import pandas as pd\n"
   ]
  },
  {
   "cell_type": "code",
   "execution_count": 5,
   "metadata": {},
   "outputs": [],
   "source": [
    "sub_path = r'C:\\Users\\ALi\\OneDrive - MMC\\Desktop\\MMCR\\Data Providers\\REIS\\REIS 2024\\4Q 2024\\marcus_milli_stfapt_2024q4 (filtered).xlsx'\n",
    "sub_df = pd.read_excel(sub_path, sheet_name='Sheet1')\n",
    "\n"
   ]
  },
  {
   "cell_type": "code",
   "execution_count": 6,
   "metadata": {},
   "outputs": [],
   "source": [
    "sub_df1 = sub_df[sub_df['Year'].between(1990, 2024)]\n"
   ]
  },
  {
   "cell_type": "code",
   "execution_count": 25,
   "metadata": {},
   "outputs": [
    {
     "data": {
      "application/vnd.microsoft.datawrangler.viewer.v0+json": {
       "columns": [
        {
         "name": "index",
         "rawType": "int64",
         "type": "integer"
        },
        {
         "name": "Metro",
         "rawType": "object",
         "type": "string"
        },
        {
         "name": "Subname",
         "rawType": "object",
         "type": "string"
        },
        {
         "name": "VacPercent",
         "rawType": "float64",
         "type": "float"
        }
       ],
       "conversionMethod": "pd.DataFrame",
       "ref": "86c1f9b9-8f9f-4134-a749-2e9b8e6f965b",
       "rows": [
        [
         "0",
         "Albuquerque",
         "Downtown/Southwest",
         "0.0438"
        ],
        [
         "1",
         "Albuquerque",
         "North Central",
         "0.0355"
        ],
        [
         "2",
         "Albuquerque",
         "Northeast",
         "0.0304"
        ],
        [
         "3",
         "Albuquerque",
         "Northwest",
         "0.0408"
        ],
        [
         "4",
         "Albuquerque",
         "Southeast",
         "0.0504"
        ],
        [
         "5",
         "Atlanta",
         "Buckhead",
         "0.0719"
        ],
        [
         "6",
         "Atlanta",
         "Central I-75 West",
         "0.075"
        ],
        [
         "7",
         "Atlanta",
         "Cherokee County",
         "0.0698"
        ],
        [
         "8",
         "Atlanta",
         "Clarkston/Stone Mountain",
         "0.062"
        ],
        [
         "9",
         "Atlanta",
         "Clayton/Henry",
         "0.0612"
        ],
        [
         "10",
         "Atlanta",
         "Coweta County",
         "0.0584"
        ],
        [
         "11",
         "Atlanta",
         "Decatur/Avondale",
         "0.0721"
        ],
        [
         "12",
         "Atlanta",
         "I-20 East",
         "0.0662"
        ],
        [
         "13",
         "Atlanta",
         "I-20 West",
         "0.0682"
        ],
        [
         "14",
         "Atlanta",
         "Marietta",
         "0.0567"
        ],
        [
         "15",
         "Atlanta",
         "Midtown",
         "0.0775"
        ],
        [
         "16",
         "Atlanta",
         "North DeKalb",
         "0.0615"
        ],
        [
         "17",
         "Atlanta",
         "North Gwinnett",
         "0.0656"
        ],
        [
         "18",
         "Atlanta",
         "Roswell/Alpharetta",
         "0.0611"
        ],
        [
         "19",
         "Atlanta",
         "Sandy Springs/Dunwoody",
         "0.0585"
        ],
        [
         "20",
         "Atlanta",
         "Smyrna",
         "0.0561"
        ],
        [
         "21",
         "Atlanta",
         "South DeKalb",
         "0.0803"
        ],
        [
         "22",
         "Atlanta",
         "South Fulton",
         "0.0815"
        ],
        [
         "23",
         "Atlanta",
         "South Gwinnett",
         "0.0543"
        ],
        [
         "24",
         "Austin",
         "Central",
         "0.0676"
        ],
        [
         "25",
         "Austin",
         "East",
         "0.0855"
        ],
        [
         "26",
         "Austin",
         "Far North Central",
         "0.0539"
        ],
        [
         "27",
         "Austin",
         "Far Northwest",
         "0.0597"
        ],
        [
         "28",
         "Austin",
         "Far South",
         "0.0685"
        ],
        [
         "29",
         "Austin",
         "Hwy 183/Cedar Park/Leander",
         "0.0738"
        ],
        [
         "30",
         "Austin",
         "Near North Central",
         "0.0714"
        ],
        [
         "31",
         "Austin",
         "Near Northwest",
         "0.0507"
        ],
        [
         "32",
         "Austin",
         "Near South Central",
         "0.0533"
        ],
        [
         "33",
         "Austin",
         "North Travis",
         "0.0745"
        ],
        [
         "34",
         "Austin",
         "Ranch Rd 620 N/F M 2222",
         "0.067"
        ],
        [
         "35",
         "Austin",
         "Round Rock/Georgetown/Hutto",
         "0.0774"
        ],
        [
         "36",
         "Austin",
         "San Marcos/North Hays County",
         "0.0819"
        ],
        [
         "37",
         "Austin",
         "Southeast",
         "0.0722"
        ],
        [
         "38",
         "Baltimore",
         "Annapolis/Crofton",
         "0.0501"
        ],
        [
         "39",
         "Baltimore",
         "Central Baltimore City",
         "0.0785"
        ],
        [
         "40",
         "Baltimore",
         "Columbia/Howard County",
         "0.0449"
        ],
        [
         "41",
         "Baltimore",
         "Dundalk/Essex/Rosedale",
         "0.0361"
        ],
        [
         "42",
         "Baltimore",
         "Glen Burnie/Harundale/Odenton",
         "0.0379"
        ],
        [
         "43",
         "Baltimore",
         "Harford County",
         "0.0439"
        ],
        [
         "44",
         "Baltimore",
         "Parkville/Carney/White Marsh",
         "0.0275"
        ],
        [
         "45",
         "Baltimore",
         "Pikesville/Randallstown/Owings Mills",
         "0.0405"
        ],
        [
         "46",
         "Baltimore",
         "Towson/Timonium/Hunt Valley",
         "0.0318"
        ],
        [
         "47",
         "Baltimore",
         "Woodlawn/Catonsville",
         "0.0314"
        ],
        [
         "48",
         "Birmingham",
         "Central",
         "0.0785"
        ],
        [
         "49",
         "Birmingham",
         "East",
         "0.049"
        ]
       ],
       "shape": {
        "columns": 3,
        "rows": 846
       }
      },
      "text/html": [
       "<div>\n",
       "<style scoped>\n",
       "    .dataframe tbody tr th:only-of-type {\n",
       "        vertical-align: middle;\n",
       "    }\n",
       "\n",
       "    .dataframe tbody tr th {\n",
       "        vertical-align: top;\n",
       "    }\n",
       "\n",
       "    .dataframe thead th {\n",
       "        text-align: right;\n",
       "    }\n",
       "</style>\n",
       "<table border=\"1\" class=\"dataframe\">\n",
       "  <thead>\n",
       "    <tr style=\"text-align: right;\">\n",
       "      <th></th>\n",
       "      <th>Metro</th>\n",
       "      <th>Subname</th>\n",
       "      <th>VacPercent</th>\n",
       "    </tr>\n",
       "  </thead>\n",
       "  <tbody>\n",
       "    <tr>\n",
       "      <th>0</th>\n",
       "      <td>Albuquerque</td>\n",
       "      <td>Downtown/Southwest</td>\n",
       "      <td>0.0438</td>\n",
       "    </tr>\n",
       "    <tr>\n",
       "      <th>1</th>\n",
       "      <td>Albuquerque</td>\n",
       "      <td>North Central</td>\n",
       "      <td>0.0355</td>\n",
       "    </tr>\n",
       "    <tr>\n",
       "      <th>2</th>\n",
       "      <td>Albuquerque</td>\n",
       "      <td>Northeast</td>\n",
       "      <td>0.0304</td>\n",
       "    </tr>\n",
       "    <tr>\n",
       "      <th>3</th>\n",
       "      <td>Albuquerque</td>\n",
       "      <td>Northwest</td>\n",
       "      <td>0.0408</td>\n",
       "    </tr>\n",
       "    <tr>\n",
       "      <th>4</th>\n",
       "      <td>Albuquerque</td>\n",
       "      <td>Southeast</td>\n",
       "      <td>0.0504</td>\n",
       "    </tr>\n",
       "    <tr>\n",
       "      <th>...</th>\n",
       "      <td>...</td>\n",
       "      <td>...</td>\n",
       "      <td>...</td>\n",
       "    </tr>\n",
       "    <tr>\n",
       "      <th>841</th>\n",
       "      <td>Wichita</td>\n",
       "      <td>McConnell AFB</td>\n",
       "      <td>0.0449</td>\n",
       "    </tr>\n",
       "    <tr>\n",
       "      <th>842</th>\n",
       "      <td>Wichita</td>\n",
       "      <td>North Wichita</td>\n",
       "      <td>0.0474</td>\n",
       "    </tr>\n",
       "    <tr>\n",
       "      <th>843</th>\n",
       "      <td>Wichita</td>\n",
       "      <td>South Wichita</td>\n",
       "      <td>0.0532</td>\n",
       "    </tr>\n",
       "    <tr>\n",
       "      <th>844</th>\n",
       "      <td>Wichita</td>\n",
       "      <td>WSU/Northeast</td>\n",
       "      <td>0.0506</td>\n",
       "    </tr>\n",
       "    <tr>\n",
       "      <th>845</th>\n",
       "      <td>Wichita</td>\n",
       "      <td>West Wichita</td>\n",
       "      <td>0.0472</td>\n",
       "    </tr>\n",
       "  </tbody>\n",
       "</table>\n",
       "<p>846 rows × 3 columns</p>\n",
       "</div>"
      ],
      "text/plain": [
       "           Metro             Subname  VacPercent\n",
       "0    Albuquerque  Downtown/Southwest      0.0438\n",
       "1    Albuquerque       North Central      0.0355\n",
       "2    Albuquerque           Northeast      0.0304\n",
       "3    Albuquerque           Northwest      0.0408\n",
       "4    Albuquerque           Southeast      0.0504\n",
       "..           ...                 ...         ...\n",
       "841      Wichita       McConnell AFB      0.0449\n",
       "842      Wichita       North Wichita      0.0474\n",
       "843      Wichita       South Wichita      0.0532\n",
       "844      Wichita       WSU/Northeast      0.0506\n",
       "845      Wichita        West Wichita      0.0472\n",
       "\n",
       "[846 rows x 3 columns]"
      ]
     },
     "execution_count": 25,
     "metadata": {},
     "output_type": "execute_result"
    }
   ],
   "source": [
    "lta_vac = sub_df1.groupby(by=['Metro', 'Subname'], group_keys=True)['VacPercent'].mean().reset_index()\n",
    "lta_vac['VacPercent'] = round(lta_vac['VacPercent']/100, 4)\n",
    "\n",
    "lta_vac"
   ]
  },
  {
   "cell_type": "code",
   "execution_count": null,
   "metadata": {},
   "outputs": [],
   "source": []
  }
 ],
 "metadata": {
  "kernelspec": {
   "display_name": "MyDashVenv",
   "language": "python",
   "name": "python3"
  },
  "language_info": {
   "codemirror_mode": {
    "name": "ipython",
    "version": 3
   },
   "file_extension": ".py",
   "mimetype": "text/x-python",
   "name": "python",
   "nbconvert_exporter": "python",
   "pygments_lexer": "ipython3",
   "version": "3.11.1"
  }
 },
 "nbformat": 4,
 "nbformat_minor": 2
}
